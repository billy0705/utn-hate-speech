{
 "cells": [
  {
   "cell_type": "code",
   "execution_count": 2,
   "metadata": {},
   "outputs": [
    {
     "name": "stdout",
     "output_type": "stream",
     "text": [
      "Requirement already satisfied: numpy in c:\\users\\dhimi\\appdata\\local\\programs\\python\\python310\\lib\\site-packages (2.2.4)\n",
      "Collecting numpy\n",
      "  Downloading numpy-2.2.6-cp310-cp310-win_amd64.whl.metadata (60 kB)\n",
      "Requirement already satisfied: pandas in c:\\users\\dhimi\\appdata\\local\\programs\\python\\python310\\lib\\site-packages (1.5.3)\n",
      "Collecting pandas\n",
      "  Downloading pandas-2.3.1-cp310-cp310-win_amd64.whl.metadata (19 kB)\n",
      "Requirement already satisfied: python-dateutil>=2.8.2 in c:\\users\\dhimi\\appdata\\local\\programs\\python\\python310\\lib\\site-packages (from pandas) (2.9.0.post0)\n",
      "Requirement already satisfied: pytz>=2020.1 in c:\\users\\dhimi\\appdata\\local\\programs\\python\\python310\\lib\\site-packages (from pandas) (2023.3.post1)\n",
      "Requirement already satisfied: tzdata>=2022.7 in c:\\users\\dhimi\\appdata\\local\\programs\\python\\python310\\lib\\site-packages (from pandas) (2023.3)\n",
      "Requirement already satisfied: six>=1.5 in c:\\users\\dhimi\\appdata\\local\\programs\\python\\python310\\lib\\site-packages (from python-dateutil>=2.8.2->pandas) (1.17.0)\n",
      "Downloading numpy-2.2.6-cp310-cp310-win_amd64.whl (12.9 MB)\n",
      "   ---------------------------------------- 0.0/12.9 MB ? eta -:--:--\n",
      "   ---------------------------------------- 0.0/12.9 MB ? eta -:--:--\n",
      "   ---------------------------------------- 0.0/12.9 MB ? eta -:--:--\n",
      "   ---------------------------------------- 0.0/12.9 MB ? eta -:--:--\n",
      "   ---------------------------------------- 0.0/12.9 MB ? eta -:--:--\n",
      "   ---------------------------------------- 0.0/12.9 MB ? eta -:--:--\n",
      "   -- ------------------------------------- 0.8/12.9 MB 3.4 MB/s eta 0:00:04\n",
      "   -- ------------------------------------- 0.8/12.9 MB 3.4 MB/s eta 0:00:04\n",
      "   --- ------------------------------------ 1.0/12.9 MB 1.3 MB/s eta 0:00:10\n",
      "   ---- ----------------------------------- 1.3/12.9 MB 1.3 MB/s eta 0:00:09\n",
      "   ---- ----------------------------------- 1.3/12.9 MB 1.3 MB/s eta 0:00:09\n",
      "   ---- ----------------------------------- 1.6/12.9 MB 1.1 MB/s eta 0:00:11\n",
      "   ----- ---------------------------------- 1.8/12.9 MB 1.2 MB/s eta 0:00:10\n",
      "   ------ --------------------------------- 2.1/12.9 MB 1.2 MB/s eta 0:00:10\n",
      "   ------- -------------------------------- 2.4/12.9 MB 1.1 MB/s eta 0:00:10\n",
      "   -------- ------------------------------- 2.6/12.9 MB 1.2 MB/s eta 0:00:09\n",
      "   -------- ------------------------------- 2.9/12.9 MB 1.2 MB/s eta 0:00:09\n",
      "   ---------- ----------------------------- 3.4/12.9 MB 1.3 MB/s eta 0:00:08\n",
      "   ----------- ---------------------------- 3.7/12.9 MB 1.3 MB/s eta 0:00:07\n",
      "   ------------ --------------------------- 3.9/12.9 MB 1.3 MB/s eta 0:00:07\n",
      "   ------------- -------------------------- 4.5/12.9 MB 1.4 MB/s eta 0:00:07\n",
      "   --------------- ------------------------ 5.0/12.9 MB 1.4 MB/s eta 0:00:06\n",
      "   ----------------- ---------------------- 5.5/12.9 MB 1.5 MB/s eta 0:00:05\n",
      "   ------------------ --------------------- 6.0/12.9 MB 1.6 MB/s eta 0:00:05\n",
      "   --------------------- ------------------ 6.8/12.9 MB 1.7 MB/s eta 0:00:04\n",
      "   ----------------------- ---------------- 7.6/12.9 MB 1.8 MB/s eta 0:00:03\n",
      "   ------------------------- -------------- 8.1/12.9 MB 1.8 MB/s eta 0:00:03\n",
      "   ------------------------- -------------- 8.1/12.9 MB 1.8 MB/s eta 0:00:03\n",
      "   -------------------------- ------------- 8.7/12.9 MB 1.8 MB/s eta 0:00:03\n",
      "   --------------------------- ------------ 8.9/12.9 MB 1.8 MB/s eta 0:00:03\n",
      "   ----------------------------- ---------- 9.4/12.9 MB 1.8 MB/s eta 0:00:02\n",
      "   ------------------------------ --------- 10.0/12.9 MB 1.8 MB/s eta 0:00:02\n",
      "   ------------------------------- -------- 10.2/12.9 MB 1.8 MB/s eta 0:00:02\n",
      "   ---------------------------------- ----- 11.0/12.9 MB 1.9 MB/s eta 0:00:02\n",
      "   ------------------------------------ --- 11.8/12.9 MB 1.9 MB/s eta 0:00:01\n",
      "   ------------------------------------ --- 11.8/12.9 MB 1.9 MB/s eta 0:00:01\n",
      "   ------------------------------------ --- 11.8/12.9 MB 1.9 MB/s eta 0:00:01\n",
      "   -------------------------------------- - 12.3/12.9 MB 1.8 MB/s eta 0:00:01\n",
      "   ---------------------------------------  12.6/12.9 MB 1.8 MB/s eta 0:00:01\n",
      "   ---------------------------------------- 12.9/12.9 MB 1.8 MB/s eta 0:00:00\n",
      "Downloading pandas-2.3.1-cp310-cp310-win_amd64.whl (11.3 MB)\n",
      "   ---------------------------------------- 0.0/11.3 MB ? eta -:--:--\n",
      "    --------------------------------------- 0.3/11.3 MB ? eta -:--:--\n",
      "    --------------------------------------- 0.3/11.3 MB ? eta -:--:--\n",
      "   - -------------------------------------- 0.5/11.3 MB 645.7 kB/s eta 0:00:17\n",
      "   --- ------------------------------------ 1.0/11.3 MB 1.1 MB/s eta 0:00:09\n",
      "   ---- ----------------------------------- 1.3/11.3 MB 1.3 MB/s eta 0:00:08\n",
      "   ------ --------------------------------- 1.8/11.3 MB 1.5 MB/s eta 0:00:07\n",
      "   --------- ------------------------------ 2.6/11.3 MB 1.8 MB/s eta 0:00:05\n",
      "   ----------- ---------------------------- 3.1/11.3 MB 1.9 MB/s eta 0:00:05\n",
      "   ------------- -------------------------- 3.9/11.3 MB 2.1 MB/s eta 0:00:04\n",
      "   --------------- ------------------------ 4.5/11.3 MB 2.2 MB/s eta 0:00:04\n",
      "   ------------------ --------------------- 5.2/11.3 MB 2.4 MB/s eta 0:00:03\n",
      "   -------------------- ------------------- 5.8/11.3 MB 2.4 MB/s eta 0:00:03\n",
      "   ---------------------- ----------------- 6.3/11.3 MB 2.4 MB/s eta 0:00:03\n",
      "   ------------------------ --------------- 7.1/11.3 MB 2.5 MB/s eta 0:00:02\n",
      "   --------------------------- ------------ 7.9/11.3 MB 2.6 MB/s eta 0:00:02\n",
      "   ------------------------------ --------- 8.7/11.3 MB 2.6 MB/s eta 0:00:02\n",
      "   -------------------------------- ------- 9.2/11.3 MB 2.7 MB/s eta 0:00:01\n",
      "   --------------------------------- ------ 9.4/11.3 MB 2.6 MB/s eta 0:00:01\n",
      "   ---------------------------------- ----- 9.7/11.3 MB 2.5 MB/s eta 0:00:01\n",
      "   ------------------------------------ --- 10.2/11.3 MB 2.5 MB/s eta 0:00:01\n",
      "   ------------------------------------- -- 10.7/11.3 MB 2.5 MB/s eta 0:00:01\n",
      "   -------------------------------------- - 11.0/11.3 MB 2.5 MB/s eta 0:00:01\n",
      "   ---------------------------------------- 11.3/11.3 MB 2.4 MB/s eta 0:00:00\n",
      "Installing collected packages: numpy, pandas\n",
      "  Attempting uninstall: numpy\n",
      "    Found existing installation: numpy 2.2.4\n",
      "    Uninstalling numpy-2.2.4:\n",
      "      Successfully uninstalled numpy-2.2.4\n",
      "  Attempting uninstall: pandas\n",
      "    Found existing installation: pandas 1.5.3\n",
      "    Uninstalling pandas-1.5.3:\n",
      "      Successfully uninstalled pandas-1.5.3\n",
      "Successfully installed numpy-2.2.6 pandas-2.3.1\n"
     ]
    },
    {
     "name": "stderr",
     "output_type": "stream",
     "text": [
      "  WARNING: Failed to remove contents in a temporary directory 'C:\\Users\\dhimi\\AppData\\Local\\Programs\\Python\\Python310\\Lib\\site-packages\\~0mpy.libs'.\n",
      "  You can safely remove it manually.\n",
      "  WARNING: Failed to remove contents in a temporary directory 'C:\\Users\\dhimi\\AppData\\Local\\Programs\\Python\\Python310\\Lib\\site-packages\\~1mpy'.\n",
      "  You can safely remove it manually.\n",
      "  WARNING: Failed to remove contents in a temporary directory 'C:\\Users\\dhimi\\AppData\\Local\\Programs\\Python\\Python310\\Lib\\site-packages\\~~ndas'.\n",
      "  You can safely remove it manually.\n",
      "ERROR: pip's dependency resolver does not currently take into account all the packages that are installed. This behaviour is the source of the following dependency conflicts.\n",
      "contourpy 1.1.1 requires numpy<2.0,>=1.16; python_version <= \"3.11\", but you have numpy 2.2.6 which is incompatible.\n",
      "gruut 2.2.3 requires numpy<2.0.0,>=1.19.0, but you have numpy 2.2.6 which is incompatible.\n",
      "matplotlib 3.8.0 requires numpy<2,>=1.21, but you have numpy 2.2.6 which is incompatible.\n",
      "numba 0.59.0 requires numpy<1.27,>=1.22, but you have numpy 2.2.6 which is incompatible.\n",
      "tts 0.22.0 requires numpy==1.22.0; python_version <= \"3.10\", but you have numpy 2.2.6 which is incompatible.\n",
      "tts 0.22.0 requires pandas<2.0,>=1.4, but you have pandas 2.3.1 which is incompatible.\n",
      "\n",
      "[notice] A new release of pip is available: 25.0.1 -> 25.1.1\n",
      "[notice] To update, run: python.exe -m pip install --upgrade pip\n"
     ]
    }
   ],
   "source": [
    "!pip install --upgrade numpy pandas"
   ]
  },
  {
   "cell_type": "code",
   "execution_count": 5,
   "metadata": {},
   "outputs": [
    {
     "name": "stdout",
     "output_type": "stream",
     "text": [
      "Initial dataset size: (5003, 5)\n",
      "Dataset size after removing duplicates: (3718, 5)\n",
      "Cleaned dataset saved as Multitarget-CONAN-singles.csv\n"
     ]
    }
   ],
   "source": [
    "import pandas as pd\n",
    "\n",
    "df = pd.read_csv('Multitarget-CONAN.csv')\n",
    "print(f\"Initial dataset size: {df.shape}\")\n",
    "\n",
    "df_cleaned = df.drop_duplicates(subset=['HATE_SPEECH'])\n",
    "print(f\"Dataset size after removing duplicates: {df_cleaned.shape}\")\n",
    "\n",
    "df_cleaned.to_csv('Multitarget-CONAN-singles.csv', index=False)\n",
    "\n",
    "print(\"Cleaned dataset saved as Multitarget-CONAN-singles.csv\")\n"
   ]
  }
 ],
 "metadata": {
  "kernelspec": {
   "display_name": "Python 3",
   "language": "python",
   "name": "python3"
  },
  "language_info": {
   "codemirror_mode": {
    "name": "ipython",
    "version": 3
   },
   "file_extension": ".py",
   "mimetype": "text/x-python",
   "name": "python",
   "nbconvert_exporter": "python",
   "pygments_lexer": "ipython3",
   "version": "3.10.7"
  }
 },
 "nbformat": 4,
 "nbformat_minor": 2
}
